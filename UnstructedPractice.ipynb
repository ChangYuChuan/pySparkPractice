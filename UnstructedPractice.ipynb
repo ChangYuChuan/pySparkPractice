{
 "cells": [
  {
   "cell_type": "code",
   "execution_count": 2,
   "id": "4946a89d-d6ed-4f68-9846-5bdcd2e63d67",
   "metadata": {},
   "outputs": [],
   "source": [
    "import findspark\n",
    "findspark.init()"
   ]
  },
  {
   "cell_type": "code",
   "execution_count": 3,
   "id": "4dbce65a",
   "metadata": {},
   "outputs": [],
   "source": [
    "from pyspark import SparkContext, SparkConf"
   ]
  },
  {
   "cell_type": "code",
   "execution_count": 4,
   "id": "d69bce69-4d48-4ab1-a5ea-329997e033ed",
   "metadata": {},
   "outputs": [],
   "source": [
    "conf = SparkConf().setMaster(\"local\").setAppName(\"applicaiton\").set(\"spark.network.timeout\", \"10000000\").set(\"spark.executor.heartbeatInterval\", \"10000000\")\n",
    "conf.set(\"spark.driver.memory\", \"5g\") \n",
    "conf.set(\"spark.executor.memory\", \"2g\")\n",
    "conf.set(\"spark.cores.max\", \"2\")\n",
    "sc = SparkContext(conf=conf)"
   ]
  },
  {
   "cell_type": "code",
   "execution_count": 5,
   "id": "36df156b-7f01-4c5a-8a72-b2c8f852af1b",
   "metadata": {},
   "outputs": [],
   "source": [
    "path = \"C:\\\\Dataset\\\\nypd_7_major_felony_incidents.csv\"\n",
    "#path = \"C:\\\\Dataset\\\\nypd_statistic.csv\"\n",
    "data = sc.textFile(path,2000)"
   ]
  },
  {
   "cell_type": "code",
   "execution_count": 8,
   "id": "86ccf7e9-24ea-47d4-8061-9a53a972990f",
   "metadata": {
    "scrolled": true
   },
   "outputs": [
    {
     "data": {
      "text/plain": [
       "'Unique Key,Created Date,Closed Date,Agency,Agency Name,Complaint Type,Descriptor,Location Type,Incident Zip,Incident Address,Street Name,Cross Street 1,Cross Street 2,Intersection Street 1,Intersection Street 2,Address Type,City,Landmark,Facility Type,Status,Due Date,Resolution Action Updated Date,Community Board,Borough,X Coordinate (State Plane),Y Coordinate (State Plane),Park Facility Name,Park Borough,Vehicle Type,Taxi Company Borough,Taxi Pick Up Location,Bridge Highway Name,Bridge Highway Direction,Road Ramp,Bridge Highway Segment,Latitude,Longitude,Location'"
      ]
     },
     "execution_count": 8,
     "metadata": {},
     "output_type": "execute_result"
    }
   ],
   "source": [
    "header=data.first()\n",
    "header"
   ]
  },
  {
   "cell_type": "code",
   "execution_count": 75,
   "id": "c18e3157",
   "metadata": {},
   "outputs": [
    {
     "data": {
      "text/plain": [
       "'16358884,03/31/2010 10:21:08 PM,06/01/2010 12:00:00 AM,DOB,Department of Buildings,Emergency Response Team (ERT),After Hours Work - Illegal,,11385,75-40 60 LANE,60 LANE,75 AVENUE,ST FELIX AVENUE,,,ADDRESS,RIDGEWOOD,,N/A,Closed,,06/01/2010 12:00:00 AM,Unspecified QUEENS,QUEENS,1013431,193566,Unspecified,QUEENS,,,,,,,,40.69792261475524,-73.89476337774164,\"(40.69792261475524, -73.89476337774164)\"'"
      ]
     },
     "execution_count": 75,
     "metadata": {},
     "output_type": "execute_result"
    }
   ],
   "source": [
    "#remove header\n",
    "dataWoHeader = data.filter(lambda x: x != header)\n",
    "dataWoHeader.first()"
   ]
  },
  {
   "cell_type": "code",
   "execution_count": 46,
   "id": "a0aaedfd",
   "metadata": {},
   "outputs": [
    {
     "data": {
      "text/plain": [
       "['Unique_Key',\n",
       " 'Created_Date',\n",
       " 'Closed_Date',\n",
       " 'Agency',\n",
       " 'Agency_Name',\n",
       " 'Complaint_Type',\n",
       " 'Descriptor',\n",
       " 'Location_Type',\n",
       " 'Incident_Zip',\n",
       " 'Incident_Address',\n",
       " 'Street_Name',\n",
       " 'Cross_Street_1',\n",
       " 'Cross_Street_2',\n",
       " 'Intersection_Street_1',\n",
       " 'Intersection_Street_2',\n",
       " 'Address_Type',\n",
       " 'City',\n",
       " 'Landmark',\n",
       " 'Facility_Type',\n",
       " 'Status',\n",
       " 'Due_Date',\n",
       " 'Resolution_Action_Updated_Date',\n",
       " 'Community_Board',\n",
       " 'Borough',\n",
       " 'X_Coordinate__State_Plane_',\n",
       " 'Y_Coordinate__State_Plane_',\n",
       " 'Park_Facility_Name',\n",
       " 'Park_Borough',\n",
       " 'Vehicle_Type',\n",
       " 'Taxi_Company_Borough',\n",
       " 'Taxi_Pick_Up_Location',\n",
       " 'Bridge_Highway_Name',\n",
       " 'Bridge_Highway_Direction',\n",
       " 'Road_Ramp',\n",
       " 'Bridge_Highway_Segment',\n",
       " 'Latitude',\n",
       " 'Longitude',\n",
       " 'Location']"
      ]
     },
     "execution_count": 46,
     "metadata": {},
     "output_type": "execute_result"
    }
   ],
   "source": [
    "fields = header.replace(\" \",\"_\").replace(\"/\",\"_\").replace(\"(\",\"_\").replace(\")\",\"_\").split(\",\")\n",
    "fields"
   ]
  },
  {
   "cell_type": "code",
   "execution_count": 11,
   "id": "e3354fd0",
   "metadata": {},
   "outputs": [],
   "source": [
    "import csv\n",
    "from collections import namedtuple"
   ]
  },
  {
   "cell_type": "code",
   "execution_count": 12,
   "id": "dfd3acbd",
   "metadata": {},
   "outputs": [],
   "source": [
    "Crime = namedtuple(\"Crime\", fields)"
   ]
  },
  {
   "cell_type": "code",
   "execution_count": 13,
   "id": "3a54ff3f",
   "metadata": {},
   "outputs": [],
   "source": [
    "def parse(row):\n",
    "    list_eles = row.replace(\", \",\";\").split(',')\n",
    "    return Crime(*list_eles)"
   ]
  },
  {
   "cell_type": "code",
   "execution_count": 14,
   "id": "e3e08784",
   "metadata": {},
   "outputs": [],
   "source": [
    "crimes = dataWoHeader.map(lambda x:parse(x))"
   ]
  },
  {
   "cell_type": "code",
   "execution_count": 38,
   "id": "beedc325",
   "metadata": {},
   "outputs": [],
   "source": [
    "crimesList = []\n",
    "for crime in crimes.take(10000):\n",
    "    crimesList.append(crime)"
   ]
  },
  {
   "cell_type": "code",
   "execution_count": 58,
   "id": "1b393114",
   "metadata": {},
   "outputs": [
    {
     "data": {
      "text/plain": [
       "defaultdict(int,\n",
       "            {'': 2780,\n",
       "             'Lot': 109,\n",
       "             'RESIDENTIAL BUILDING': 6061,\n",
       "             'Sidewalk': 792,\n",
       "             'Street': 253,\n",
       "             'Street/Sidewalk': 4,\n",
       "             'Residential Building/House': 1})"
      ]
     },
     "execution_count": 58,
     "metadata": {},
     "output_type": "execute_result"
    }
   ],
   "source": [
    "crimes = sc.parallelize(crimesList)\n",
    "crimes.map(lambda x:x.Location_Type).countByValue()"
   ]
  },
  {
   "cell_type": "code",
   "execution_count": 63,
   "id": "2217c3c8",
   "metadata": {},
   "outputs": [],
   "source": [
    "crimesWithClosed = crimes.filter(lambda x: x.Status=='Closed' and x.Location_Type != '')\n"
   ]
  },
  {
   "cell_type": "code",
   "execution_count": 65,
   "id": "3dfdc93c",
   "metadata": {},
   "outputs": [
    {
     "data": {
      "text/plain": [
       "defaultdict(int,\n",
       "            {'Lot': 109,\n",
       "             'RESIDENTIAL BUILDING': 6057,\n",
       "             'Sidewalk': 791,\n",
       "             'Street': 253,\n",
       "             'Street/Sidewalk': 4,\n",
       "             'Residential Building/House': 1})"
      ]
     },
     "execution_count": 65,
     "metadata": {},
     "output_type": "execute_result"
    }
   ],
   "source": [
    "crimesWithClosed.map(lambda x:x.Location_Type).countByValue()"
   ]
  },
  {
   "cell_type": "code",
   "execution_count": 67,
   "id": "f2fc4829",
   "metadata": {},
   "outputs": [
    {
     "data": {
      "text/plain": [
       "7215"
      ]
     },
     "execution_count": 67,
     "metadata": {},
     "output_type": "execute_result"
    }
   ],
   "source": [
    "crimesWithClosed.count()"
   ]
  },
  {
   "cell_type": "code",
   "execution_count": 92,
   "id": "8852fa24",
   "metadata": {},
   "outputs": [
    {
     "data": {
      "text/plain": [
       "Crime(Unique_Key='16359163', Created_Date='04/01/2010 12:04:00 PM', Closed_Date='04/06/2010 12:00:00 PM', Agency='DSNY', Agency_Name='A - Queens', Complaint_Type='Dirty Conditions', Descriptor='E3A Dirty Area/Alleyway', Location_Type='Lot', Incident_Zip='11694', Incident_Address='122-03 BEACH CHANNEL DRIVE', Street_Name='BEACH CHANNEL DRIVE', Cross_Street_1='BEACH 122 STREET', Cross_Street_2='BEACH 123 STREET', Intersection_Street_1='', Intersection_Street_2='', Address_Type='ADDRESS', City='ROCKAWAY PARK', Landmark='', Facility_Type='N/A', Status='Closed', Due_Date='', Resolution_Action_Updated_Date='04/06/2010 12:00:00 AM', Community_Board='14 QUEENS', Borough='QUEENS', X_Coordinate__State_Plane_='1027501', Y_Coordinate__State_Plane_='151166', Park_Facility_Name='Unspecified', Park_Borough='QUEENS', Vehicle_Type='', Taxi_Company_Borough='', Taxi_Pick_Up_Location='', Bridge_Highway_Name='', Bridge_Highway_Direction='', Road_Ramp='', Bridge_Highway_Segment='', Latitude='40.5814863095601', Longitude='-73.84429405493032', Location='\"(40.5814863095601;-73.84429405493032)\"')"
      ]
     },
     "execution_count": 92,
     "metadata": {},
     "output_type": "execute_result"
    }
   ],
   "source": [
    "crimesWithClosed.first()"
   ]
  },
  {
   "cell_type": "code",
   "execution_count": 68,
   "id": "19e55d36",
   "metadata": {},
   "outputs": [],
   "source": [
    "def extracCorordinate(location):\n",
    "    cor =location.split(';')\n",
    "    return cor"
   ]
  },
  {
   "cell_type": "code",
   "execution_count": 82,
   "id": "80adfc3d",
   "metadata": {},
   "outputs": [],
   "source": [
    "cord = crimesWithClosed.map(lambda x:extracCorordinate(x.Location.replace('\"(','').replace(')\"','')))"
   ]
  },
  {
   "cell_type": "code",
   "execution_count": 80,
   "id": "dd06564f",
   "metadata": {},
   "outputs": [
    {
     "data": {
      "text/plain": [
       "('40.5087817135548', '-73.70373052737233')"
      ]
     },
     "execution_count": 80,
     "metadata": {},
     "output_type": "execute_result"
    }
   ],
   "source": [
    "cord.reduce(lambda x,y:(min(x[0],y[0]),min(x[1],y[1])))"
   ]
  },
  {
   "cell_type": "code",
   "execution_count": 83,
   "id": "d09234fe",
   "metadata": {},
   "outputs": [
    {
     "data": {
      "text/plain": [
       "('40.91044110216951', '-74.24914585014686')"
      ]
     },
     "execution_count": 83,
     "metadata": {},
     "output_type": "execute_result"
    }
   ],
   "source": [
    "cord.reduce(lambda x,y:(max(x[0],y[0]),max(x[1],y[1])))"
   ]
  },
  {
   "cell_type": "code",
   "execution_count": 98,
   "id": "c0eae58e",
   "metadata": {},
   "outputs": [
    {
     "data": {
      "text/plain": [
       "[Crime(Unique_Key='16366790', Created_Date='04/02/2010 09:53:00 PM', Closed_Date='04/03/2010 12:00:00 PM', Agency='DSNY', Agency_Name='BCC - Staten Island', Complaint_Type='Sanitation Condition', Descriptor='12 Dead Animals', Location_Type='Sidewalk', Incident_Zip='10307', Incident_Address='467 CRAIG AVENUE', Street_Name='CRAIG AVENUE', Cross_Street_1='MAIN STREET', Cross_Street_2='BUTLER AVENUE', Intersection_Street_1='', Intersection_Street_2='', Address_Type='ADDRESS', City='STATEN ISLAND', Landmark='', Facility_Type='DSNY Garage', Status='Closed', Due_Date='', Resolution_Action_Updated_Date='04/03/2010 12:00:00 PM', Community_Board='03 STATEN ISLAND', Borough='STATEN ISLAND', X_Coordinate__State_Plane_='914970', Y_Coordinate__State_Plane_='125237', Park_Facility_Name='Unspecified', Park_Borough='STATEN ISLAND', Vehicle_Type='', Taxi_Company_Borough='', Taxi_Pick_Up_Location='', Bridge_Highway_Name='', Bridge_Highway_Direction='', Road_Ramp='', Bridge_Highway_Segment='', Latitude='40.510151197567524', Longitude='-74.24914585014686', Location='\"(40.510151197567524;-74.24914585014686)\"')]"
      ]
     },
     "execution_count": 98,
     "metadata": {},
     "output_type": "execute_result"
    }
   ],
   "source": [
    "target = crimesWithClosed.filter(lambda x: '-74.24914585014686' in x.Location)\n",
    "target.take(2)"
   ]
  },
  {
   "cell_type": "code",
   "execution_count": null,
   "id": "3da82b0c",
   "metadata": {},
   "outputs": [],
   "source": []
  }
 ],
 "metadata": {
  "kernelspec": {
   "display_name": "Python 3",
   "language": "python",
   "name": "python3"
  },
  "language_info": {
   "codemirror_mode": {
    "name": "ipython",
    "version": 3
   },
   "file_extension": ".py",
   "mimetype": "text/x-python",
   "name": "python",
   "nbconvert_exporter": "python",
   "pygments_lexer": "ipython3",
   "version": "3.8.8"
  }
 },
 "nbformat": 4,
 "nbformat_minor": 5
}
