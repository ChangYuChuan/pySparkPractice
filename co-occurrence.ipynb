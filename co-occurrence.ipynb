{
 "cells": [
  {
   "cell_type": "code",
   "execution_count": 1,
   "id": "303ff6d1",
   "metadata": {},
   "outputs": [],
   "source": [
    "import findspark\n",
    "findspark.init()"
   ]
  },
  {
   "cell_type": "code",
   "execution_count": 2,
   "id": "6136bab0",
   "metadata": {},
   "outputs": [],
   "source": [
    "from pyspark import SparkContext, SparkConf\n",
    "conf = SparkConf().setMaster(\"local\").setAppName(\"applicaiton\").set(\"spark.network.timeout\", \"10000000\").set(\"spark.executor.heartbeatInterval\", \"10000000\")\n",
    "conf.set(\"spark.driver.memory\", \"5g\") \n",
    "conf.set(\"spark.executor.memory\", \"2g\")\n",
    "conf.set(\"spark.cores.max\", \"2\")\n",
    "sc = SparkContext(conf=conf)"
   ]
  },
  {
   "cell_type": "code",
   "execution_count": 3,
   "id": "95e70946",
   "metadata": {},
   "outputs": [],
   "source": [
    "books_path = \"C:\\\\Dataset\\\\books.txt\"\n",
    "chars_path = \"C:\\\\Dataset\\\\characters.txt\"\n",
    "edge_path = \"C:\\\\Dataset\\\\edges.txt\"\n",
    "\n",
    "books_rdd = sc.textFile(books_path)\n",
    "chars_rdd = sc.textFile(chars_path)\n",
    "edge_rdd = sc.textFile(edge_path)"
   ]
  },
  {
   "cell_type": "code",
   "execution_count": 4,
   "id": "2c5c87b8",
   "metadata": {},
   "outputs": [
    {
     "data": {
      "text/plain": [
       "['Vertex 6487: AA2 35',\n",
       " 'Vertex 6488: M/PRM 35',\n",
       " 'Vertex 6489: M/PRM 36',\n",
       " 'Vertex 6490: M/PRM 37',\n",
       " 'Vertex 6491: WI? 9']"
      ]
     },
     "execution_count": 4,
     "metadata": {},
     "output_type": "execute_result"
    }
   ],
   "source": [
    "books_rdd.take(5)"
   ]
  },
  {
   "cell_type": "code",
   "execution_count": 5,
   "id": "7b6eaf01",
   "metadata": {},
   "outputs": [
    {
     "data": {
      "text/plain": [
       "['Vertex 1: 24-HOUR MAN/EMMANUEL',\n",
       " 'Vertex 2: 3-D MAN/CHARLES CHANDLER & HAROLD CHANDLER',\n",
       " 'Vertex 3: 4-D MAN/MERCURIO',\n",
       " 'Vertex 4: 8-BALL/',\n",
       " 'Vertex 5: A',\n",
       " \"Vertex 6: A'YIN\",\n",
       " 'Vertex 7: ABBOTT, JACK',\n",
       " 'Vertex 8: ABCISSA',\n",
       " 'Vertex 9: ABEL',\n",
       " 'Vertex 10: ABOMINATION/EMIL BLONSKY']"
      ]
     },
     "execution_count": 5,
     "metadata": {},
     "output_type": "execute_result"
    }
   ],
   "source": [
    "chars_rdd.take(10)"
   ]
  },
  {
   "cell_type": "code",
   "execution_count": 6,
   "id": "b1781af9",
   "metadata": {},
   "outputs": [
    {
     "data": {
      "text/plain": [
       "['*Vertices 19428 6486',\n",
       " '1 \"24-HOUR MAN/EMMANUEL\"',\n",
       " '2 \"3-D MAN/CHARLES CHAN\"',\n",
       " '3 \"4-D MAN/MERCURIO\"',\n",
       " '4 \"8-BALL/\"',\n",
       " '5 \"A\"',\n",
       " '6 \"A\\'YIN\"',\n",
       " '7 \"ABBOTT, JACK\"',\n",
       " '8 \"ABCISSA\"',\n",
       " '9 \"ABEL\"']"
      ]
     },
     "execution_count": 6,
     "metadata": {},
     "output_type": "execute_result"
    }
   ],
   "source": [
    "edge_rdd.take(10)"
   ]
  },
  {
   "cell_type": "code",
   "execution_count": 7,
   "id": "1556a58d",
   "metadata": {},
   "outputs": [],
   "source": [
    "# remove the dispenciple data from row and remain the edges\n",
    "def extractEdges(row):\n",
    "    if('*' in row or '\"' in row):\n",
    "        return False\n",
    "    else:\n",
    "        return True"
   ]
  },
  {
   "cell_type": "code",
   "execution_count": 8,
   "id": "f0a64afb",
   "metadata": {},
   "outputs": [
    {
     "data": {
      "text/plain": [
       "['1 6487',\n",
       " '2 6488 6489 6490 6491 6492 6493 6494 6495 6496',\n",
       " '3 6497 6498 6499 6500 6501 6502 6503 6504 6505',\n",
       " '4 6506 6507 6508',\n",
       " '5 6509 6510 6511']"
      ]
     },
     "execution_count": 8,
     "metadata": {},
     "output_type": "execute_result"
    }
   ],
   "source": [
    "edgeFiltered = edge_rdd.filter(extractEdges)\n",
    "edgeFiltered.take(5)"
   ]
  },
  {
   "cell_type": "code",
   "execution_count": 9,
   "id": "5ee71ffa",
   "metadata": {},
   "outputs": [
    {
     "data": {
      "text/plain": [
       "[('1', ['6487']),\n",
       " ('2',\n",
       "  ['6488', '6489', '6490', '6491', '6492', '6493', '6494', '6495', '6496']),\n",
       " ('3',\n",
       "  ['6497', '6498', '6499', '6500', '6501', '6502', '6503', '6504', '6505']),\n",
       " ('4', ['6506', '6507', '6508']),\n",
       " ('5', ['6509', '6510', '6511'])]"
      ]
     },
     "execution_count": 9,
     "metadata": {},
     "output_type": "execute_result"
    }
   ],
   "source": [
    "charBookMap = edgeFiltered.map(lambda x:x.split(' ')).map(lambda x:(x[0],x[1:]))\n",
    "charBookMap.take(5)"
   ]
  },
  {
   "cell_type": "code",
   "execution_count": 10,
   "id": "5fc13b61",
   "metadata": {},
   "outputs": [
    {
     "data": {
      "text/plain": [
       "[('1', 1), ('2', 9), ('3', 9), ('4', 3), ('5', 3)]"
      ]
     },
     "execution_count": 10,
     "metadata": {},
     "output_type": "execute_result"
    }
   ],
   "source": [
    "charStat = charBookMap.mapValues(lambda x:len(x))\n",
    "charStat.take(5)"
   ]
  },
  {
   "cell_type": "code",
   "execution_count": 11,
   "id": "8c3d5aab",
   "metadata": {},
   "outputs": [],
   "source": [
    "def charParse(row):\n",
    "    row = row.split(':')\n",
    "    charNo = row[0].replace('Vertex ','')\n",
    "    return (charNo,row[1].strip())"
   ]
  },
  {
   "cell_type": "code",
   "execution_count": 12,
   "id": "fa2fda4e",
   "metadata": {},
   "outputs": [],
   "source": [
    "charsMap = chars_rdd.map(charParse).collectAsMap()"
   ]
  },
  {
   "cell_type": "code",
   "execution_count": 13,
   "id": "8ad51280",
   "metadata": {},
   "outputs": [
    {
     "data": {
      "text/plain": [
       "[('24-HOUR MAN/EMMANUEL', 1),\n",
       " ('3-D MAN/CHARLES CHANDLER & HAROLD CHANDLER', 9),\n",
       " ('4-D MAN/MERCURIO', 9),\n",
       " ('8-BALL/', 3),\n",
       " ('A', 3)]"
      ]
     },
     "execution_count": 13,
     "metadata": {},
     "output_type": "execute_result"
    }
   ],
   "source": [
    "rdd = charStat.map(lambda x:(charsMap[x[0]],x[1]))\n",
    "rdd.take(5)"
   ]
  },
  {
   "cell_type": "code",
   "execution_count": 14,
   "id": "c8c81234",
   "metadata": {},
   "outputs": [
    {
     "data": {
      "text/plain": [
       "[('SPIDER-MAN/PETER PARKER', 1625),\n",
       " ('CAPTAIN AMERICA', 1367),\n",
       " ('IRON MAN/TONY STARK', 1168),\n",
       " ('THING/BENJAMIN J. GRIMM', 990),\n",
       " ('THOR/DR. DONALD BLAKE/SIGURD JARLSON II/JAKE OLSON/LOREN OLSON', 965),\n",
       " ('HUMAN TORCH/JOHNNY STORM', 908),\n",
       " ('MR. FANTASTIC/REED RICHARDS', 875),\n",
       " ('HULK/DR. ROBERT BRUCE BANNER', 841),\n",
       " ('WOLVERINE/LOGAN', 820),\n",
       " ('INVISIBLE WOMAN/SUE STORM RICHARDS', 782)]"
      ]
     },
     "execution_count": 14,
     "metadata": {},
     "output_type": "execute_result"
    }
   ],
   "source": [
    "rdd.reduceByKey(lambda x,y:x+y).sortBy(lambda x:-x[1]).take(10)"
   ]
  },
  {
   "cell_type": "code",
   "execution_count": 15,
   "id": "700eebe5",
   "metadata": {},
   "outputs": [],
   "source": [
    "# In the following line, we are about to find out the stength of relationship between two certain characters.\n",
    "# First, we will transform the charBookMap, which represent which books specific character appears, to \n",
    "# bookCharMap, which represents the which characters appear in specific book."
   ]
  },
  {
   "cell_type": "code",
   "execution_count": 16,
   "id": "a14c9e1c",
   "metadata": {},
   "outputs": [
    {
     "data": {
      "text/plain": [
       "[('1', '6487'),\n",
       " ('2', '6488'),\n",
       " ('2', '6489'),\n",
       " ('2', '6490'),\n",
       " ('2', '6491'),\n",
       " ('2', '6492'),\n",
       " ('2', '6493'),\n",
       " ('2', '6494'),\n",
       " ('2', '6495'),\n",
       " ('2', '6496')]"
      ]
     },
     "execution_count": 16,
     "metadata": {},
     "output_type": "execute_result"
    }
   ],
   "source": [
    "charBookFlatMap = charBookMap.flatMapValues(lambda x:x)\n",
    "charBookFlatMap.take(10)"
   ]
  },
  {
   "cell_type": "code",
   "execution_count": 17,
   "id": "0990da62",
   "metadata": {},
   "outputs": [
    {
     "data": {
      "text/plain": [
       "[('6487', ['1', '1999', '6459', '6463', '6464', '6471']),\n",
       " ('6488', ['2']),\n",
       " ('6489', ['2']),\n",
       " ('6490', ['2']),\n",
       " ('6491', ['2', '2186', '2555', '3491', '6022']),\n",
       " ('6492',\n",
       "  ['2',\n",
       "   '154',\n",
       "   '859',\n",
       "   '2186',\n",
       "   '2399',\n",
       "   '2555',\n",
       "   '3035',\n",
       "   '3176',\n",
       "   '3491',\n",
       "   '6022',\n",
       "   '6148']),\n",
       " ('6493',\n",
       "  ['2',\n",
       "   '154',\n",
       "   '859',\n",
       "   '2186',\n",
       "   '2399',\n",
       "   '2555',\n",
       "   '3035',\n",
       "   '3491',\n",
       "   '4228',\n",
       "   '6022',\n",
       "   '6148']),\n",
       " ('6494', ['2', '337', '1535', '2548', '3035', '4759', '5200', '6322']),\n",
       " ('6495', ['2', '337', '1535', '2548', '3035', '4759', '5200', '6322']),\n",
       " ('6496',\n",
       "  ['2',\n",
       "   '66',\n",
       "   '133',\n",
       "   '155',\n",
       "   '183',\n",
       "   '274',\n",
       "   '403',\n",
       "   '505',\n",
       "   '522',\n",
       "   '533',\n",
       "   '545',\n",
       "   '592',\n",
       "   '731',\n",
       "   '824',\n",
       "   '859',\n",
       "   '867',\n",
       "   '1116',\n",
       "   '1127',\n",
       "   '1231',\n",
       "   '1265',\n",
       "   '1289',\n",
       "   '1347',\n",
       "   '1369',\n",
       "   '1383',\n",
       "   '1425',\n",
       "   '1480',\n",
       "   '1535',\n",
       "   '1587',\n",
       "   '1602',\n",
       "   '1649',\n",
       "   '1805',\n",
       "   '2069',\n",
       "   '2184',\n",
       "   '2199',\n",
       "   '2273',\n",
       "   '2295',\n",
       "   '2397',\n",
       "   '2399',\n",
       "   '2430',\n",
       "   '2438',\n",
       "   '2449',\n",
       "   '2548',\n",
       "   '2557',\n",
       "   '2603',\n",
       "   '2613',\n",
       "   '2614',\n",
       "   '2650',\n",
       "   '2658',\n",
       "   '2664',\n",
       "   '2689',\n",
       "   '2728',\n",
       "   '2931',\n",
       "   '3008',\n",
       "   '3210',\n",
       "   '3220',\n",
       "   '3233',\n",
       "   '3319',\n",
       "   '3594',\n",
       "   '3662',\n",
       "   '3712',\n",
       "   '3750',\n",
       "   '3757',\n",
       "   '3805',\n",
       "   '3950',\n",
       "   '3955',\n",
       "   '3986',\n",
       "   '3989',\n",
       "   '4024',\n",
       "   '4132',\n",
       "   '4188',\n",
       "   '4204',\n",
       "   '4366',\n",
       "   '4441',\n",
       "   '4454',\n",
       "   '4589',\n",
       "   '4603',\n",
       "   '4607',\n",
       "   '4731',\n",
       "   '4804',\n",
       "   '4860',\n",
       "   '4898',\n",
       "   '4978',\n",
       "   '5002',\n",
       "   '5013',\n",
       "   '5017',\n",
       "   '5021',\n",
       "   '5046',\n",
       "   '5088',\n",
       "   '5250',\n",
       "   '5306',\n",
       "   '5309',\n",
       "   '5446',\n",
       "   '5467',\n",
       "   '5516',\n",
       "   '5535',\n",
       "   '5615',\n",
       "   '5696',\n",
       "   '5716',\n",
       "   '5736',\n",
       "   '5776',\n",
       "   '5834',\n",
       "   '5874',\n",
       "   '5973',\n",
       "   '5986',\n",
       "   '5999',\n",
       "   '6066',\n",
       "   '6148',\n",
       "   '6196',\n",
       "   '6227',\n",
       "   '6306',\n",
       "   '6313'])]"
      ]
     },
     "execution_count": 17,
     "metadata": {},
     "output_type": "execute_result"
    }
   ],
   "source": [
    "bookCharMap = charBookFlatMap.map(lambda x:(x[1],x[0])).combineByKey(\n",
    "    lambda val: [val],\n",
    "    lambda acc,val: acc+[val],\n",
    "    lambda acc1, acc2: acc1+acc2\n",
    ")\n",
    "bookCharMap.take(10) "
   ]
  },
  {
   "cell_type": "code",
   "execution_count": 18,
   "id": "fd533f5e",
   "metadata": {},
   "outputs": [],
   "source": [
    "import itertools"
   ]
  },
  {
   "cell_type": "code",
   "execution_count": 19,
   "id": "82ca4ffa",
   "metadata": {},
   "outputs": [
    {
     "data": {
      "text/plain": [
       "[('1', '1999'),\n",
       " ('1', '6459'),\n",
       " ('1', '6463'),\n",
       " ('1', '6464'),\n",
       " ('1', '6471'),\n",
       " ('1999', '6459'),\n",
       " ('1999', '6463'),\n",
       " ('1999', '6464'),\n",
       " ('1999', '6471'),\n",
       " ('6459', '6463')]"
      ]
     },
     "execution_count": 19,
     "metadata": {},
     "output_type": "execute_result"
    }
   ],
   "source": [
    "#flatMap is like to flatten the structure and turn it into 1D array\n",
    "concurMap = bookCharMap.flatMap(lambda x: list(itertools.combinations(x[1],2)))\n",
    "concurMap.take(10)"
   ]
  },
  {
   "cell_type": "code",
   "execution_count": 20,
   "id": "fd3b701a",
   "metadata": {},
   "outputs": [
    {
     "data": {
      "text/plain": [
       "[(('1', '1999'), 1),\n",
       " (('1', '6459'), 1),\n",
       " (('1', '6463'), 1),\n",
       " (('1', '6464'), 1),\n",
       " (('1', '6471'), 1)]"
      ]
     },
     "execution_count": 20,
     "metadata": {},
     "output_type": "execute_result"
    }
   ],
   "source": [
    "concurMap = concurMap.map(lambda x: (x,1))\n",
    "concurMap.take(5)"
   ]
  },
  {
   "cell_type": "code",
   "execution_count": 21,
   "id": "6c15f89f",
   "metadata": {},
   "outputs": [
    {
     "data": {
      "text/plain": [
       "[('HUMAN TORCH/JOHNNY STORM', 'THING/BENJAMIN J. GRIMM', 744),\n",
       " ('HUMAN TORCH/JOHNNY STORM', 'MR. FANTASTIC/REED RICHARDS', 713),\n",
       " ('MR. FANTASTIC/REED RICHARDS', 'THING/BENJAMIN J. GRIMM', 708),\n",
       " ('INVISIBLE WOMAN/SUE STORM RICHARDS', 'MR. FANTASTIC/REED RICHARDS', 701),\n",
       " ('HUMAN TORCH/JOHNNY STORM', 'INVISIBLE WOMAN/SUE STORM RICHARDS', 694),\n",
       " ('INVISIBLE WOMAN/SUE STORM RICHARDS', 'THING/BENJAMIN J. GRIMM', 668),\n",
       " ('SPIDER-MAN/PETER PARKER', 'WATSON-PARKER, MARY JANE', 616),\n",
       " ('JAMESON, J. JONAH', 'SPIDER-MAN/PETER PARKER', 526),\n",
       " ('CAPTAIN AMERICA', 'IRON MAN/TONY STARK', 446),\n",
       " ('SCARLET WITCH/WANDA MAXIMOFF', 'VISION', 422)]"
      ]
     },
     "execution_count": 21,
     "metadata": {},
     "output_type": "execute_result"
    }
   ],
   "source": [
    "concurCount = concurMap.reduceByKey(lambda x,y:x+y).map(lambda x:(charsMap[x[0][0]], charsMap[x[0][1]], x[1]))\n",
    "concurCountSorted= concurCount.sortBy(lambda x:-x[2])\n",
    "concurCountSorted.take(10)"
   ]
  },
  {
   "cell_type": "code",
   "execution_count": 22,
   "id": "2da238d8",
   "metadata": {},
   "outputs": [
    {
     "data": {
      "text/plain": [
       "(count: 168267, mean: 3.3861066043848, stdev: 10.918482065185982, max: 744.0, min: 1.0)"
      ]
     },
     "execution_count": 22,
     "metadata": {},
     "output_type": "execute_result"
    }
   ],
   "source": [
    "concurCount.map(lambda x:x[2]).stats()"
   ]
  },
  {
   "cell_type": "code",
   "execution_count": 23,
   "id": "93c24672",
   "metadata": {},
   "outputs": [],
   "source": [
    "import networkx as nx"
   ]
  },
  {
   "cell_type": "code",
   "execution_count": 24,
   "id": "5dbf1aa8",
   "metadata": {},
   "outputs": [],
   "source": [
    "graph = nx.Graph()"
   ]
  },
  {
   "cell_type": "code",
   "execution_count": 31,
   "id": "a100c223",
   "metadata": {},
   "outputs": [],
   "source": [
    "# the purose of using the inversely proportional is that the weight represented on the image is distance between the vertext \n",
    "edges = concurCountSorted.map(lambda x:(x[0],x[1],{'weight':1000/x[2]})).take(50)"
   ]
  },
  {
   "cell_type": "code",
   "execution_count": 32,
   "id": "153db792",
   "metadata": {},
   "outputs": [],
   "source": [
    "graph.add_edges_from(edges)"
   ]
  },
  {
   "cell_type": "code",
   "execution_count": 33,
   "id": "79b56419",
   "metadata": {},
   "outputs": [
    {
     "data": {
      "image/png": "[encoded data removed]",
      "text/plain": [
       "<Figure size 432x288 with 1 Axes>"
      ]
     },
     "metadata": {},
     "output_type": "display_data"
    }
   ],
   "source": [
    "import matplotlib.pyplot as plt\n",
    "nx.draw_networkx(graph, pos=nx.spring_layout(graph))\n",
    "plt.show()"
   ]
  },
  {
   "cell_type": "code",
   "execution_count": null,
   "id": "c33817d8",
   "metadata": {},
   "outputs": [],
   "source": []
  },
  {
   "cell_type": "code",
   "execution_count": null,
   "id": "5a4e4ab0",
   "metadata": {},
   "outputs": [],
   "source": []
  }
 ],
 "metadata": {
  "kernelspec": {
   "display_name": "Python 3",
   "language": "python",
   "name": "python3"
  },
  "language_info": {
   "codemirror_mode": {
    "name": "ipython",
    "version": 3
   },
   "file_extension": ".py",
   "mimetype": "text/x-python",
   "name": "python",
   "nbconvert_exporter": "python",
   "pygments_lexer": "ipython3",
   "version": "3.8.8"
  }
 },
 "nbformat": 4,
 "nbformat_minor": 5
}
