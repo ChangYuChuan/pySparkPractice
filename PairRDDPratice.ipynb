{
 "cells": [
  {
   "cell_type": "code",
   "execution_count": 1,
   "id": "88cb5632",
   "metadata": {},
   "outputs": [],
   "source": [
    "import findspark\n",
    "findspark.init()"
   ]
  },
  {
   "cell_type": "code",
   "execution_count": 2,
   "id": "8c19e714",
   "metadata": {},
   "outputs": [],
   "source": [
    "from pyspark import SparkContext, SparkConf\n",
    "conf = SparkConf().setMaster(\"local\").setAppName(\"applicaiton\").set(\"spark.network.timeout\", \"10000000\").set(\"spark.executor.heartbeatInterval\", \"10000000\")\n",
    "conf.set(\"spark.driver.memory\", \"5g\") \n",
    "conf.set(\"spark.executor.memory\", \"2g\")\n",
    "conf.set(\"spark.cores.max\", \"2\")\n",
    "sc = SparkContext(conf=conf)"
   ]
  },
  {
   "cell_type": "code",
   "execution_count": 3,
   "id": "aa15670f",
   "metadata": {},
   "outputs": [],
   "source": [
    "traffic_path = \"C:\\\\Dataset\\\\Dodgers.data\"\n",
    "gamesInfo_path = \"C:\\\\Dataset\\\\Dodgers.events\"\n",
    "traffic_data = sc.textFile(traffic_path)\n",
    "gamesInfo_data = sc.textFile(gamesInfo_path)"
   ]
  },
  {
   "cell_type": "code",
   "execution_count": 4,
   "id": "320b5a2d",
   "metadata": {},
   "outputs": [
    {
     "data": {
      "text/plain": [
       "['04/12/05,13:10:00,16:23:00,55892,San Francisco,W 9-8�',\n",
       " '04/13/05,19:10:00,21:48:00,46514,San Francisco,W 4-1�',\n",
       " '04/15/05,19:40:00,21:48:00,51816,San Diego,W 4-0�',\n",
       " '04/16/05,19:10:00,21:52:00,54704,San Diego,W 8-3�',\n",
       " '04/17/05,13:10:00,15:31:00,53402,San Diego,W 6-0�']"
      ]
     },
     "execution_count": 4,
     "metadata": {},
     "output_type": "execute_result"
    }
   ],
   "source": [
    "gamesInfo_data.take(5)"
   ]
  },
  {
   "cell_type": "code",
   "execution_count": 5,
   "id": "f86038f9",
   "metadata": {},
   "outputs": [],
   "source": [
    "from datetime import datetime\n",
    "import csv"
   ]
  },
  {
   "cell_type": "code",
   "execution_count": 6,
   "id": "75d79703",
   "metadata": {},
   "outputs": [],
   "source": [
    "# strptime is used to make the date string dateTime object.\n",
    "def parseTraffic(row):\n",
    "    DATE_TEMP = \"%m/%d/%Y %H:%M\"\n",
    "    row = row.split(',')\n",
    "    row[0] = datetime.strptime(row[0],DATE_TEMP)\n",
    "    row[1] = int(row[1])\n",
    "    return row[0],row[1]"
   ]
  },
  {
   "cell_type": "code",
   "execution_count": 7,
   "id": "f7ba2040",
   "metadata": {},
   "outputs": [],
   "source": [
    "traffiParsed = traffic_data.map(parseTraffic)"
   ]
  },
  {
   "cell_type": "code",
   "execution_count": 8,
   "id": "e929ea17",
   "metadata": {},
   "outputs": [
    {
     "data": {
      "text/plain": [
       "[(datetime.datetime(2005, 4, 10, 0, 0), -1),\n",
       " (datetime.datetime(2005, 4, 10, 0, 5), -1),\n",
       " (datetime.datetime(2005, 4, 10, 0, 10), -1),\n",
       " (datetime.datetime(2005, 4, 10, 0, 15), -1),\n",
       " (datetime.datetime(2005, 4, 10, 0, 20), -1)]"
      ]
     },
     "execution_count": 8,
     "metadata": {},
     "output_type": "execute_result"
    }
   ],
   "source": [
    "traffiParsed.take(5)"
   ]
  },
  {
   "cell_type": "code",
   "execution_count": 9,
   "id": "303d74d4",
   "metadata": {},
   "outputs": [],
   "source": [
    "trafficTrend = traffiParsed.map(lambda x:(x[0].date(),x[1])).reduceByKey(lambda x,y:x+y)"
   ]
  },
  {
   "cell_type": "code",
   "execution_count": 10,
   "id": "57b1f067",
   "metadata": {},
   "outputs": [
    {
     "data": {
      "text/plain": [
       "[(datetime.date(2005, 7, 28), 7661),\n",
       " (datetime.date(2005, 7, 29), 7499),\n",
       " (datetime.date(2005, 8, 12), 7287),\n",
       " (datetime.date(2005, 7, 27), 7238),\n",
       " (datetime.date(2005, 9, 23), 7175),\n",
       " (datetime.date(2005, 7, 26), 7163),\n",
       " (datetime.date(2005, 5, 20), 7119),\n",
       " (datetime.date(2005, 8, 11), 7110),\n",
       " (datetime.date(2005, 9, 8), 7107),\n",
       " (datetime.date(2005, 9, 7), 7082)]"
      ]
     },
     "execution_count": 10,
     "metadata": {},
     "output_type": "execute_result"
    }
   ],
   "source": [
    "# -x[1] the - represent the decending order.\n",
    "trafficTrend.sortBy(lambda x:-x[1]).take(10)"
   ]
  },
  {
   "cell_type": "code",
   "execution_count": 11,
   "id": "ca0e2dd5",
   "metadata": {},
   "outputs": [],
   "source": [
    "def parseGame(row):\n",
    "    DATE_TEMP = \"%m/%d/%y\"\n",
    "    row = row.split(',')\n",
    "    row[0] = datetime.strptime(row[0],DATE_TEMP).date()\n",
    "    return row[0],row[4]"
   ]
  },
  {
   "cell_type": "code",
   "execution_count": 12,
   "id": "50183612",
   "metadata": {},
   "outputs": [],
   "source": [
    "gameInfoParsed = gamesInfo_data.map(parseGame)"
   ]
  },
  {
   "cell_type": "code",
   "execution_count": 13,
   "id": "d593c75f",
   "metadata": {},
   "outputs": [
    {
     "data": {
      "text/plain": [
       "[(datetime.date(2005, 4, 12), 'San Francisco'),\n",
       " (datetime.date(2005, 4, 13), 'San Francisco'),\n",
       " (datetime.date(2005, 4, 15), 'San Diego'),\n",
       " (datetime.date(2005, 4, 16), 'San Diego'),\n",
       " (datetime.date(2005, 4, 17), 'San Diego')]"
      ]
     },
     "execution_count": 13,
     "metadata": {},
     "output_type": "execute_result"
    }
   ],
   "source": [
    "gameInfoParsed.take(5)"
   ]
  },
  {
   "cell_type": "code",
   "execution_count": 14,
   "id": "0b5ff9fb",
   "metadata": {},
   "outputs": [
    {
     "data": {
      "text/plain": [
       "[(datetime.date(2005, 4, 10), (-288, None)),\n",
       " (datetime.date(2005, 4, 11), (5062, None)),\n",
       " (datetime.date(2005, 4, 14), (6423, None)),\n",
       " (datetime.date(2005, 4, 15), (6459, 'San Diego')),\n",
       " (datetime.date(2005, 4, 16), (6002, 'San Diego')),\n",
       " (datetime.date(2005, 4, 17), (5322, 'San Diego')),\n",
       " (datetime.date(2005, 4, 18), (5600, None)),\n",
       " (datetime.date(2005, 4, 19), (6049, None)),\n",
       " (datetime.date(2005, 4, 21), (5977, None)),\n",
       " (datetime.date(2005, 4, 22), (6038, None))]"
      ]
     },
     "execution_count": 14,
     "metadata": {},
     "output_type": "execute_result"
    }
   ],
   "source": [
    "#The code below demonstrate how to merge the two seperate RDD by using Join\n",
    "joinedData = trafficTrend.leftOuterJoin(gameInfoParsed)\n",
    "joinedData.take(10)"
   ]
  },
  {
   "cell_type": "code",
   "execution_count": 15,
   "id": "e356e842",
   "metadata": {},
   "outputs": [
    {
     "data": {
      "text/plain": [
       "[(datetime.date(2005, 7, 28), (7661, 'Cincinnati')),\n",
       " (datetime.date(2005, 7, 29), (7499, 'St. Louis')),\n",
       " (datetime.date(2005, 8, 12), (7287, 'NY Mets')),\n",
       " (datetime.date(2005, 7, 27), (7238, 'Cincinnati')),\n",
       " (datetime.date(2005, 9, 23), (7175, 'Pittsburgh')),\n",
       " (datetime.date(2005, 7, 26), (7163, 'Cincinnati')),\n",
       " (datetime.date(2005, 5, 20), (7119, 'LA Angels')),\n",
       " (datetime.date(2005, 8, 11), (7110, 'Philadelphia')),\n",
       " (datetime.date(2005, 9, 8), (7107, None)),\n",
       " (datetime.date(2005, 9, 7), (7082, 'San Francisco'))]"
      ]
     },
     "execution_count": 15,
     "metadata": {},
     "output_type": "execute_result"
    }
   ],
   "source": [
    "joinedData.sortBy(lambda x:-x[1][0]).take(10)"
   ]
  },
  {
   "cell_type": "code",
   "execution_count": 24,
   "id": "511fdce4",
   "metadata": {},
   "outputs": [],
   "source": [
    "def checkGameDay(row):\n",
    "    try:\n",
    "        if row[1][1] == None:\n",
    "            return (row[0], row[1][1],\"RegularDay\",row[1][0])\n",
    "        else:\n",
    "            return (row[0], row[1][1],\"GameDay\",row[1][0])\n",
    "    except Exception as ex:\n",
    "        return \"Error\" + ex"
   ]
  },
  {
   "cell_type": "code",
   "execution_count": 25,
   "id": "fce790b9",
   "metadata": {},
   "outputs": [],
   "source": [
    "dailyTrendByGames = joinedData.map(checkGameDay)\n"
   ]
  },
  {
   "cell_type": "code",
   "execution_count": 26,
   "id": "efa89c89",
   "metadata": {},
   "outputs": [
    {
     "data": {
      "text/plain": [
       "[(datetime.date(2005, 4, 10), None, 'RegularDay', -288),\n",
       " (datetime.date(2005, 10, 1), None, 'RegularDay', -260),\n",
       " (datetime.date(2005, 6, 28), 'San Diego', 'GameDay', -96),\n",
       " (datetime.date(2005, 7, 4), None, 'RegularDay', 328),\n",
       " (datetime.date(2005, 7, 12), None, 'RegularDay', 1204),\n",
       " (datetime.date(2005, 5, 23), None, 'RegularDay', 2173),\n",
       " (datetime.date(2005, 9, 17), None, 'RegularDay', 2426),\n",
       " (datetime.date(2005, 9, 10), 'San Diego', 'GameDay', 2851),\n",
       " (datetime.date(2005, 6, 27), 'San Diego', 'GameDay', 2907),\n",
       " (datetime.date(2005, 7, 10), None, 'RegularDay', 3518)]"
      ]
     },
     "execution_count": 26,
     "metadata": {},
     "output_type": "execute_result"
    }
   ],
   "source": [
    "dailyTrendByGames.sortBy(lambda x:+x[3]).take(10)"
   ]
  },
  {
   "cell_type": "code",
   "execution_count": 44,
   "id": "dde1ff6f",
   "metadata": {},
   "outputs": [
    {
     "data": {
      "text/plain": [
       "[('RegularDay', -288),\n",
       " ('RegularDay', -260),\n",
       " ('GameDay', -96),\n",
       " ('RegularDay', 328),\n",
       " ('RegularDay', 1204),\n",
       " ('RegularDay', 2173),\n",
       " ('RegularDay', 2426),\n",
       " ('GameDay', 2851),\n",
       " ('GameDay', 2907),\n",
       " ('RegularDay', 3518)]"
      ]
     },
     "execution_count": 44,
     "metadata": {},
     "output_type": "execute_result"
    }
   ],
   "source": [
    "# Get the average traffic counts of game day and of regular day.\n",
    "dailySubCountByGame =  dailyTrendByGames.map(lambda x: (x[2],x[3]))\n",
    "dailySubCountByGame.sortBy(lambda x:+x[1]).take(10)"
   ]
  },
  {
   "cell_type": "code",
   "execution_count": 45,
   "id": "21c27f03",
   "metadata": {},
   "outputs": [],
   "source": [
    "dailySubCountByGame = dailySubCountByGame.combineByKey(\n",
    "    lambda val: (val,1),\n",
    "    lambda acc,val:(acc[0]+val,acc[1]+1),\n",
    "    lambda acc1, acc2: (acc1[0]+acc2[0], acc1[1]+acc2[1])\n",
    ")"
   ]
  },
  {
   "cell_type": "code",
   "execution_count": 46,
   "id": "ddba1616",
   "metadata": {},
   "outputs": [
    {
     "data": {
      "text/plain": [
       "[('GameDay', 5948.604938271605), ('RegularDay', 5411.329787234043)]"
      ]
     },
     "execution_count": 46,
     "metadata": {},
     "output_type": "execute_result"
    }
   ],
   "source": [
    "dailySubCountByGame.map(lambda x:(x[0],x[1][0]/x[1][1])).collect()"
   ]
  },
  {
   "cell_type": "code",
   "execution_count": null,
   "id": "1ecfd6f8",
   "metadata": {},
   "outputs": [],
   "source": []
  }
 ],
 "metadata": {
  "kernelspec": {
   "display_name": "Python 3",
   "language": "python",
   "name": "python3"
  },
  "language_info": {
   "codemirror_mode": {
    "name": "ipython",
    "version": 3
   },
   "file_extension": ".py",
   "mimetype": "text/x-python",
   "name": "python",
   "nbconvert_exporter": "python",
   "pygments_lexer": "ipython3",
   "version": "3.8.8"
  }
 },
 "nbformat": 4,
 "nbformat_minor": 5
}
